{
 "cells": [
  {
   "cell_type": "markdown",
   "metadata": {},
   "source": [
    "# Code Coffee\n",
    "## Joblib Python Package\n",
    "**8 Nov 2017**\n",
    "\n",
    "From their documentation [found here](https://pythonhosted.org/joblib/index.html)\n",
    "\n",
    "Joblib is a set of tools to provide lightweight pipelining in Python. In particular, joblib offers:\n",
    "\n",
    "   1. transparent disk-caching of the output values and lazy re-evaluation (memoize pattern)\n",
    "   2. easy simple parallel computing\n",
    "   3. logging and tracing of the execution\n"
   ]
  },
  {
   "cell_type": "markdown",
   "metadata": {},
   "source": [
    "### Embarassingly Parallel Pipelining\n",
    "\n",
    "Joblib provides an incredibly easy way to turn a simple for loop into a parallel loop.  This lets you maximize the computing power you have available to you. If you throw this code on your quad-core machine, you'll get a slightly less than 4x speedup.  If you throw this on to an Ocelote interactive node, you'll get about 28x speedup — almost for free and with very little coding. \n",
    "\n",
    "_Note that this only works for embarassingly parallel jobs, meaning that individual steps in the loop can't depend on any other step in the loop._\n",
    "\n",
    "If you have a bunch of very easy loops, joblib may not be for you. There is overhead associated with creating the parallel jobs, so, to maximize efficiency, make sure that your job execution time is much longer than the overhead. (Typically, if each iteration in a loop takes a few seconds, you'll get a performance increase with joblib). "
   ]
  },
  {
   "cell_type": "markdown",
   "metadata": {},
   "source": [
    "** The components of a Parallel job**\n",
    "\n",
    "` output = Parallel(n_jobs=num_cores,backend=\"multiprocessing\")( delayed(mydef)(i,j,k) for i in range(10) )`\n",
    "\n",
    "* `output` is a list of the outputs from your definition\n",
    "* `n_jobs` is the number of jobs you want executing at a time\n",
    "* `backend` can be either \"multiprocessing\" for running one job on each core or \"threading\" to run a job on each thread you have available. \n",
    "* `delayed` means that your output will be returned in the order that you passed it in\n",
    "* `mydef` is the name of the definition you've created.\n",
    "* `(i,j,k)` is a tuple all of the arguments you pass into your definition. \n"
   ]
  },
  {
   "cell_type": "code",
   "execution_count": 1,
   "metadata": {
    "collapsed": true
   },
   "outputs": [],
   "source": [
    "from joblib import Parallel, delayed\n",
    "import multiprocessing\n",
    "import numpy as np\n",
    "import time"
   ]
  },
  {
   "cell_type": "code",
   "execution_count": 2,
   "metadata": {},
   "outputs": [
    {
     "name": "stdout",
     "output_type": "stream",
     "text": [
      "[0.0, 1.0, 4.0, 9.0, 16.0, 25.0, 36.0, 49.0, 64.0, 81.0]\n",
      "[0.0, 1.0, 4.0, 9.0, 16.0, 25.0, 36.0, 49.0, 64.0, 81.0]\n"
     ]
    }
   ],
   "source": [
    "# As an example, here's a loop:\n",
    "\n",
    "output=[]\n",
    "for i in range(10):\n",
    "    output+=[i**2.]\n",
    "    \n",
    "print(output)\n",
    "\n",
    "# We can convert this into a definition\n",
    "def mydef(i):\n",
    "    var=i**2.\n",
    "    return var\n",
    "\n",
    "# And then we can pass this to joblib Parallel\n",
    "num_cores = multiprocessing.cpu_count() # this automatically scales the problem to the size of our computer\n",
    "output = Parallel(n_jobs=num_cores)( delayed(mydef)(i) for i in range(10) )\n",
    "print(output)"
   ]
  },
  {
   "cell_type": "code",
   "execution_count": 3,
   "metadata": {},
   "outputs": [
    {
     "name": "stdout",
     "output_type": "stream",
     "text": [
      "[(0.0, 0), (1.0, 1), (4.0, 2), (9.0, 3), (16.0, 4), (25.0, 5), (36.0, 6), (49.0, 7), (64.0, 8), (81.0, 9)]\n"
     ]
    }
   ],
   "source": [
    "# Note that output is a list of all of our returned results.  You may need to post-process multiple outputs\n",
    "def mydef(i):\n",
    "    var=i**2.\n",
    "    return var,i\n",
    "\n",
    "num_cores = multiprocessing.cpu_count() \n",
    "output = Parallel(n_jobs=num_cores)( delayed(mydef)(i) for i in range(10) )\n",
    "print(output)"
   ]
  },
  {
   "cell_type": "markdown",
   "metadata": {},
   "source": [
    "The above problem doesn't show any speedup (and indeed, may show a slow down due to the overhead).  Now let's look at an example that shows the benefits of parallel computing. "
   ]
  },
  {
   "cell_type": "code",
   "execution_count": 4,
   "metadata": {
    "collapsed": true
   },
   "outputs": [],
   "source": [
    "A = np.random.randint(0,high=10,size=(2000,2000))\n",
    "B = np.random.randint(0,high=10,size=(2000,2000))"
   ]
  },
  {
   "cell_type": "markdown",
   "metadata": {},
   "source": [
    "Let's take the dot product serially."
   ]
  },
  {
   "cell_type": "code",
   "execution_count": 11,
   "metadata": {},
   "outputs": [
    {
     "name": "stdout",
     "output_type": "stream",
     "text": [
      "The serial job took 30.158 seconds\n"
     ]
    }
   ],
   "source": [
    "start=time.time()\n",
    "np.dot(A,B)\n",
    "end=time.time()\n",
    "print(\"The serial job took\",round(end-start,3),\"seconds\")\n",
    "t1=end-start"
   ]
  },
  {
   "cell_type": "markdown",
   "metadata": {},
   "source": [
    "That took a bit. Let's chunk our job and apply a parallel loop."
   ]
  },
  {
   "cell_type": "code",
   "execution_count": 10,
   "metadata": {},
   "outputs": [
    {
     "name": "stdout",
     "output_type": "stream",
     "text": [
      "We have 4 cores\n",
      "The parallel job took 23.671 seconds\n",
      "We got a factor of  1.298 speedup\n"
     ]
    }
   ],
   "source": [
    "# Make this into a definition\n",
    "def compute(a,b):\n",
    "  return np.dot(a,b)\n",
    "\n",
    "start=time.time()\n",
    "num_cores = multiprocessing.cpu_count() \n",
    "print(\"We have\",num_cores,\"cores\")\n",
    "output = Parallel(n_jobs=num_cores*2,backend=\"threading\")( delayed(compute)(i,B) for i in np.split(A,num_cores*2) )\n",
    "output=np.vstack(output) # compile our output back into one matrix\n",
    "end=time.time()\n",
    "print(\"The parallel job took\",round(end-start,3),\"seconds\")\n",
    "t2=end-start\n",
    "print(\"We got a factor of \",round(t1/t2,3),\"speedup\")"
   ]
  },
  {
   "cell_type": "markdown",
   "metadata": {
    "collapsed": true
   },
   "source": [
    "As you can see, this worked much better.\n",
    "\n",
    "Ideas for using joblib parallel processes:\n",
    "* Making plots for a movie\n",
    "* Reading many small files\n",
    "* Doing computations on large arrays\n",
    "* Running many methods that take 5 minutes each."
   ]
  },
  {
   "cell_type": "markdown",
   "metadata": {
    "collapsed": true
   },
   "source": [
    "  "
   ]
  }
 ],
 "metadata": {
  "kernelspec": {
   "display_name": "Python 3",
   "language": "python",
   "name": "python3"
  },
  "language_info": {
   "codemirror_mode": {
    "name": "ipython",
    "version": 3
   },
   "file_extension": ".py",
   "mimetype": "text/x-python",
   "name": "python",
   "nbconvert_exporter": "python",
   "pygments_lexer": "ipython3",
   "version": "3.6.1"
  }
 },
 "nbformat": 4,
 "nbformat_minor": 2
}
