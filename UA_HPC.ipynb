{
 "cells": [
  {
   "cell_type": "markdown",
   "metadata": {},
   "source": [
    "# UA HPC commands\n",
    "\n",
    "The online documentation can be found [here](https://docs.hpc.arizona.edu/) and are a good place to start if you have questions."
   ]
  },
  {
   "cell_type": "markdown",
   "metadata": {},
   "source": [
    "### Loggin in "
   ]
  },
  {
   "cell_type": "markdown",
   "metadata": {},
   "source": [
    "To log in to the HPC system, from a campus network or the campus VPN, type"
   ]
  },
  {
   "cell_type": "markdown",
   "metadata": {},
   "source": [
    "ssh -Y username@hpc.arizona.edu"
   ]
  },
  {
   "cell_type": "markdown",
   "metadata": {},
   "source": [
    "You should come to the login node, called keymaster.  You'll see options to log in to either El Gato or Ocelote.  Typing `elgato` or `ocelote` will _not_ allow windows.  You need to use "
   ]
  },
  {
   "cell_type": "markdown",
   "metadata": {},
   "source": [
    "ssh -Y elgato"
   ]
  },
  {
   "cell_type": "markdown",
   "metadata": {},
   "source": [
    "To see what storage disks you have access to, use the command"
   ]
  },
  {
   "cell_type": "markdown",
   "metadata": {},
   "source": [
    "uquota"
   ]
  },
  {
   "cell_type": "markdown",
   "metadata": {},
   "source": [
    "### Loading software"
   ]
  },
  {
   "cell_type": "markdown",
   "metadata": {},
   "source": [
    "Your profile on the login nodes for the supercomputers don't come with any pre-loaded software.  To see available packages, type"
   ]
  },
  {
   "cell_type": "markdown",
   "metadata": {},
   "source": [
    "module avail"
   ]
  },
  {
   "cell_type": "markdown",
   "metadata": {},
   "source": [
    "Then, to load a specific package, type"
   ]
  },
  {
   "cell_type": "markdown",
   "metadata": {},
   "source": [
    "module load modulename"
   ]
  },
  {
   "cell_type": "markdown",
   "metadata": {},
   "source": [
    "For instance,"
   ]
  },
  {
   "cell_type": "markdown",
   "metadata": {},
   "source": [
    "module load python/3.4.1"
   ]
  },
  {
   "cell_type": "markdown",
   "metadata": {},
   "source": [
    "To see what you have loaded, type"
   ]
  },
  {
   "cell_type": "markdown",
   "metadata": {},
   "source": [
    "module list"
   ]
  },
  {
   "cell_type": "markdown",
   "metadata": {},
   "source": [
    "If you don't want to do this every time, you can add these commands to your `.bashrc` file."
   ]
  },
  {
   "cell_type": "markdown",
   "metadata": {},
   "source": [
    "### Interacting with the scheduler"
   ]
  },
  {
   "cell_type": "markdown",
   "metadata": {},
   "source": [
    "Ocelote uses a scheduler called PBS, while El Gato uses the LSF scheduler.  The commands are similar, but different enough to be a pain."
   ]
  },
  {
   "cell_type": "markdown",
   "metadata": {},
   "source": [
    "#### El Gato\n",
    "To see a list of available queues, type"
   ]
  },
  {
   "cell_type": "markdown",
   "metadata": {},
   "source": [
    "bqueues"
   ]
  },
  {
   "cell_type": "markdown",
   "metadata": {},
   "source": [
    "To see your running jobs, type"
   ]
  },
  {
   "cell_type": "markdown",
   "metadata": {},
   "source": [
    "bjobs"
   ]
  },
  {
   "cell_type": "markdown",
   "metadata": {},
   "source": [
    "To see everyone's jobs, use "
   ]
  },
  {
   "cell_type": "markdown",
   "metadata": {},
   "source": [
    "bjobs -u all"
   ]
  },
  {
   "cell_type": "markdown",
   "metadata": {},
   "source": [
    "#### Ocelote\n",
    "To see a list of available queues, "
   ]
  },
  {
   "cell_type": "markdown",
   "metadata": {},
   "source": [
    "qstat -q"
   ]
  },
  {
   "cell_type": "markdown",
   "metadata": {},
   "source": [
    "To see all of your running jobs, type"
   ]
  },
  {
   "cell_type": "markdown",
   "metadata": {},
   "source": [
    "qstat -u username"
   ]
  },
  {
   "cell_type": "markdown",
   "metadata": {},
   "source": [
    "To see everyone's jobs, use"
   ]
  },
  {
   "cell_type": "markdown",
   "metadata": {},
   "source": [
    "qstat"
   ]
  },
  {
   "cell_type": "markdown",
   "metadata": {},
   "source": [
    "### Running Jobs"
   ]
  },
  {
   "cell_type": "markdown",
   "metadata": {},
   "source": [
    "### Embarassingly Parallel Jobs\n",
    "These are jobs where you want to execute the same command several times."
   ]
  },
  {
   "cell_type": "markdown",
   "metadata": {},
   "source": [
    "#### El  Gato\n",
    "Here is an example of an El Gato lsf script for an embarassingly parallel job.  Save this in a file named something like `lsf.sh`."
   ]
  },
  {
   "cell_type": "markdown",
   "metadata": {},
   "source": [
    "#!/bin/bash\n",
    "#BSUB -n 1 ## number of processors given to each process\n",
    "#BSUB -e err_somename_%I  ## error files; make somename unique to other runs\n",
    "#BSUB -o out_somename_%I  ## output notification files\n",
    "#BSUB -q \"your queue\" ## can be windfall, standard, or medium, depending on your advisor's allowed queues.\n",
    "#BSUB -u username\n",
    "#BSUB -J somename[start-finish]  ## Gibe the job a name (somename) and then fill in the processes you want, eg [1-100] or [1,2,3]\n",
    "#BSUB -R \"span[ptile=1]\"\n",
    "####BSUB -w \"done(JobID|JobName)\"  ## Ask us about this fanciness\n",
    "\n",
    "#.${LSB_JOBINDEX} gives the run index 1,2,3...\n",
    "\n",
    "#use regular linux commands to copy/link executables, input files, etc., run python, or whatever else you want to do.  It will run in the subdirectory some_directory/some_runname${LSB_JOBINDEX}/. \n",
    "\n",
    "mkdir some_directory\n",
    "mkdir some_directory/some_runname${LSB_JOBINDEX}\n",
    "cd some_directory/some_runname${LSB_JOBINDEX}/\n",
    "echo \"I'm Job number ${LSB_JOBINDEX}\"\n"
   ]
  },
  {
   "cell_type": "markdown",
   "metadata": {},
   "source": [
    "To execute this script, use"
   ]
  },
  {
   "cell_type": "markdown",
   "metadata": {},
   "source": [
    "bsub < lsf.sh"
   ]
  },
  {
   "cell_type": "markdown",
   "metadata": {},
   "source": [
    "You can then check your job's status with `bjobs`."
   ]
  },
  {
   "cell_type": "markdown",
   "metadata": {},
   "source": [
    "#### Ocelote\n",
    "Here's the same for Ocelote.  The PBS scheduler is different in that you submit a job array.  Save this script as something like `pbs.sh`."
   ]
  },
  {
   "cell_type": "markdown",
   "metadata": {},
   "source": [
    "##choose windfall or standard\n",
    "#PBS -q queuename\n",
    "##select nodes:cpus per node:memory per node\n",
    "#PBS -l select=1:ncpus=1:mem=6gb\n",
    "##the name of your job\n",
    "#PBS -N jobname\n",
    "##the name of your group, typically your advisor's username\n",
    "#PBS -W group_list=yourgroup\n",
    "##how the scheduler fills in your nodes\n",
    "#PBS -l place=pack:shared\n",
    "##the length of time for your job\n",
    "#PBS -l walltime=1:00:00\n",
    "##the indexes of your job array\n",
    "#PBS -J 1-5\n",
    "##the location for your error files; this must exist first\n",
    "#PBS -e errorfiles/\n",
    "##the location for your output files; this must exist first\n",
    "#PBS -o outfiles/\n",
    "\n",
    "#Now you can use your normal linux commands\n",
    "\n",
    "#Run the program for individual core ${PBS_ARRAY_INDEX}\n",
    "echo  \"I'm Job number ${PBS_ARRAY_INDEX}\"\n"
   ]
  },
  {
   "cell_type": "markdown",
   "metadata": {},
   "source": [
    "You can submit your job with"
   ]
  },
  {
   "cell_type": "markdown",
   "metadata": {},
   "source": [
    "qsub pbs.sh"
   ]
  },
  {
   "cell_type": "markdown",
   "metadata": {},
   "source": [
    "And then you can check your job with `qstat -u yourname -t`."
   ]
  },
  {
   "cell_type": "markdown",
   "metadata": {},
   "source": [
    "### Parallel Jobs\n",
    "We can also run parallel jobs on a supercomputer (after all, that's what they were designed for!)."
   ]
  },
  {
   "cell_type": "markdown",
   "metadata": {},
   "source": [
    "#### El Gato\n",
    "Here's an example MPI script.  Save it in `lsf.sh`.  You can get the code in Rixin's directory at `/home/u5/rixin/mpi_hello_world`."
   ]
  },
  {
   "cell_type": "markdown",
   "metadata": {},
   "source": [
    "###========================================\n",
    "#!/bin/bash\n",
    "#set the job name\n",
    "#BSUB -J mpi_test\n",
    "#set the number of cores in total\n",
    "#BSUB -n 32\n",
    "#request 16 cores per node\n",
    "#BSUB -R \"span[ptile=16]\"\n",
    "#request standard output (stdout) to file lsf.out\n",
    "#BSUB -o lsf.out\n",
    "#request error output (stderr) to file lsf.err\n",
    "#BSUB -e lsf.err\n",
    "#set the queue for this job as windfall\n",
    "#BSUB -q \"medium\"\n",
    "#---------------------------------------------------------------------\n",
    "\n",
    "###load modules needed\n",
    "module load openmpi\n",
    "\n",
    "###pre-execution work\n",
    "cd ~/mpi_hello_world\n",
    "make # compile the code, in this example case\n",
    "\n",
    "###set directory for job execution\n",
    "cd ./elgato_sample_run\n",
    "###run your program\n",
    "mpirun -np 32 ../mpi_hello_world > elgato_sample_output.txt\n",
    "\n",
    "###end of script\n"
   ]
  },
  {
   "cell_type": "markdown",
   "metadata": {},
   "source": [
    "Use the same commands to submit and check the status as before."
   ]
  },
  {
   "cell_type": "markdown",
   "metadata": {},
   "source": [
    "#### Ocelote\n",
    "And the same for Ocelote"
   ]
  },
  {
   "cell_type": "markdown",
   "metadata": {},
   "source": [
    "#!/bin/bash\n",
    "##set the job name\n",
    "#PBS -N mpi_test\n",
    "##set the PI group for this job\n",
    "#PBS -W group_list=kkratter\n",
    "##set the queue for this job as windfall\n",
    "#PBS -q windfall\n",
    "##request email when job begins and ends\n",
    "#PBS -m bea\n",
    "##set the number of nodes, cores, and memory that will be used\n",
    "#PBS -l select=2:ncpus=28:mem=1gb\n",
    "##specify \"wallclock time\" required for this job, hhh:mm:ss\n",
    "#PBS -l walltime=00:01:00\n",
    "##specify cpu time = walltime * num_cpus\n",
    "#PBS -l cput=1:00:00\n",
    "\n",
    "###load modules needed\n",
    "module load openmpi/gcc/2\n",
    "\n",
    "###pre-execution work\n",
    "cd ~/mpi_hello_world\n",
    "make # compile the code, in this example case\n",
    "\n",
    "###set directory for job execution\n",
    "cd ./ocelote_sample_run\n",
    "###run your executable program with begin and end date and time output\n",
    "date\n",
    "/usr/bin/time mpirun -np 56 ../mpi_hello_world > ocelote_sample_output.txt\n",
    "date\n"
   ]
  },
  {
   "cell_type": "markdown",
   "metadata": {},
   "source": [
    "### Killing jobs\n",
    "If you realize you made a mistake, or you want to kill a job that has been running for too long, use"
   ]
  },
  {
   "cell_type": "markdown",
   "metadata": {},
   "source": [
    "bkill jobid"
   ]
  },
  {
   "cell_type": "markdown",
   "metadata": {},
   "source": [
    "on El Gato or"
   ]
  },
  {
   "cell_type": "markdown",
   "metadata": {},
   "source": [
    "qdel jobid[].head1"
   ]
  },
  {
   "cell_type": "markdown",
   "metadata": {},
   "source": [
    "on Ocelote."
   ]
  },
  {
   "cell_type": "markdown",
   "metadata": {},
   "source": [
    "### Interactive Nodes\n",
    "Do not, I repeat, DO NOT run programs on the login node.  You're using up resources for people that just want to check their job status!  Instead, you can request an interactive node that lets you run programs from a compute node where you can use as much of the resources as you want.  "
   ]
  },
  {
   "cell_type": "markdown",
   "metadata": {},
   "source": [
    "To get an interactive node, you submit a job to the scheduler requesting interactive resources.  On El Gato, use"
   ]
  },
  {
   "cell_type": "markdown",
   "metadata": {},
   "source": [
    "bsub -YF -Is bash"
   ]
  },
  {
   "cell_type": "markdown",
   "metadata": {},
   "source": [
    "and on Ocelote, use "
   ]
  },
  {
   "cell_type": "markdown",
   "metadata": {},
   "source": [
    "qsub -I -N jobname -W group_list=groupname -q yourqueue -l select=1:ncpus=28:mem=168gb -l cput=1:0:0 -l walltime=1:0:0"
   ]
  }
 ],
 "metadata": {
  "kernelspec": {
   "display_name": "Python 2",
   "language": "python",
   "name": "python2"
  },
  "language_info": {
   "codemirror_mode": {
    "name": "ipython",
    "version": 2
   },
   "file_extension": ".py",
   "mimetype": "text/x-python",
   "name": "python",
   "nbconvert_exporter": "python",
   "pygments_lexer": "ipython2",
   "version": "2.7.6"
  }
 },
 "nbformat": 4,
 "nbformat_minor": 1
}
